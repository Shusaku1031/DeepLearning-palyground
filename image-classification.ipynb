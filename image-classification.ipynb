{
 "cells": [
  {
   "cell_type": "markdown",
   "id": "86fe230a",
   "metadata": {},
   "source": [
    "## Step1.各種必要なライブラリのインポート"
   ]
  },
  {
   "cell_type": "code",
   "execution_count": 1,
   "id": "660d9745",
   "metadata": {},
   "outputs": [],
   "source": [
    "import keras\n",
    "from keras.datasets import cifar10\n",
    "from keras.utils import np_utils\n",
    "from keras.applications import vgg19\n",
    "from keras.layers import Dense, Input, GlobalAveragePooling2D\n",
    "from keras.models import Model\n",
    "from sklearn.metrics import confusion_matrix, classification_report\n",
    "import pandas as pd\n",
    "import seaborn as sn\n",
    "import numpy as np\n",
    "import matplotlib.pyplot as plt"
   ]
  },
  {
   "cell_type": "markdown",
   "id": "a27ce61b",
   "metadata": {},
   "source": [
    "## Step2.学習用/テスト用データの準備から深層学習モデルの準備\n",
    "次の順でセルを実行\n",
    "1. データセット(cifar10)の読み込みと整形\n",
    "2. imagenet学習済みモデルの読み込みと全結合層/出力層の形状の調整\n",
    "3. モデルをcifar10で再学習"
   ]
  },
  {
   "cell_type": "markdown",
   "id": "0ae31231",
   "metadata": {},
   "source": [
    "#### データセット(cifar10)の読み込みと整形"
   ]
  },
  {
   "cell_type": "code",
   "execution_count": 2,
   "id": "133adcdf",
   "metadata": {},
   "outputs": [],
   "source": [
    "(x_train,y_train),(x_test,y_test)=cifar10.load_data()\n",
    "x_train=x_train.astype('float32')/255.0\n",
    "x_test=x_test.astype('float32')/255.0\n",
    "\n",
    "y_train_one_hot=np_utils.to_categorical(y_train,10)\n",
    "y_test_one_hot=np_utils.to_categorical(y_test,10)"
   ]
  },
  {
   "cell_type": "markdown",
   "id": "9e0a32b4",
   "metadata": {},
   "source": [
    "#### imagenet学習済みモデルの読み込みと全結合層/出力層の形状の調整"
   ]
  },
  {
   "cell_type": "code",
   "execution_count": 3,
   "id": "e49a88f3",
   "metadata": {},
   "outputs": [
    {
     "name": "stdout",
     "output_type": "stream",
     "text": [
      "Metal device set to: Apple M1\n"
     ]
    },
    {
     "name": "stderr",
     "output_type": "stream",
     "text": [
      "2024-06-01 23:07:57.232711: I tensorflow/core/common_runtime/pluggable_device/pluggable_device_factory.cc:305] Could not identify NUMA node of platform GPU ID 0, defaulting to 0. Your kernel may not have been built with NUMA support.\n",
      "2024-06-01 23:07:57.232859: I tensorflow/core/common_runtime/pluggable_device/pluggable_device_factory.cc:271] Created TensorFlow device (/job:localhost/replica:0/task:0/device:GPU:0 with 0 MB memory) -> physical PluggableDevice (device: 0, name: METAL, pci bus id: <undefined>)\n"
     ]
    },
    {
     "name": "stdout",
     "output_type": "stream",
     "text": [
      "Model: \"model\"\n",
      "_________________________________________________________________\n",
      " Layer (type)                Output Shape              Param #   \n",
      "=================================================================\n",
      " input_1 (InputLayer)        [(None, 32, 32, 3)]       0         \n",
      "                                                                 \n",
      " block1_conv1 (Conv2D)       (None, 32, 32, 64)        1792      \n",
      "                                                                 \n",
      " block1_conv2 (Conv2D)       (None, 32, 32, 64)        36928     \n",
      "                                                                 \n",
      " block1_pool (MaxPooling2D)  (None, 16, 16, 64)        0         \n",
      "                                                                 \n",
      " block2_conv1 (Conv2D)       (None, 16, 16, 128)       73856     \n",
      "                                                                 \n",
      " block2_conv2 (Conv2D)       (None, 16, 16, 128)       147584    \n",
      "                                                                 \n",
      " block2_pool (MaxPooling2D)  (None, 8, 8, 128)         0         \n",
      "                                                                 \n",
      " block3_conv1 (Conv2D)       (None, 8, 8, 256)         295168    \n",
      "                                                                 \n",
      " block3_conv2 (Conv2D)       (None, 8, 8, 256)         590080    \n",
      "                                                                 \n",
      " block3_conv3 (Conv2D)       (None, 8, 8, 256)         590080    \n",
      "                                                                 \n",
      " block3_conv4 (Conv2D)       (None, 8, 8, 256)         590080    \n",
      "                                                                 \n",
      " block3_pool (MaxPooling2D)  (None, 4, 4, 256)         0         \n",
      "                                                                 \n",
      " block4_conv1 (Conv2D)       (None, 4, 4, 512)         1180160   \n",
      "                                                                 \n",
      " block4_conv2 (Conv2D)       (None, 4, 4, 512)         2359808   \n",
      "                                                                 \n",
      " block4_conv3 (Conv2D)       (None, 4, 4, 512)         2359808   \n",
      "                                                                 \n",
      " block4_conv4 (Conv2D)       (None, 4, 4, 512)         2359808   \n",
      "                                                                 \n",
      " block4_pool (MaxPooling2D)  (None, 2, 2, 512)         0         \n",
      "                                                                 \n",
      " block5_conv1 (Conv2D)       (None, 2, 2, 512)         2359808   \n",
      "                                                                 \n",
      " block5_conv2 (Conv2D)       (None, 2, 2, 512)         2359808   \n",
      "                                                                 \n",
      " block5_conv3 (Conv2D)       (None, 2, 2, 512)         2359808   \n",
      "                                                                 \n",
      " block5_conv4 (Conv2D)       (None, 2, 2, 512)         2359808   \n",
      "                                                                 \n",
      " block5_pool (MaxPooling2D)  (None, 1, 1, 512)         0         \n",
      "                                                                 \n",
      " global_average_pooling2d (G  (None, 512)              0         \n",
      " lobalAveragePooling2D)                                          \n",
      "                                                                 \n",
      " dense (Dense)               (None, 512)               262656    \n",
      "                                                                 \n",
      " dense_1 (Dense)             (None, 10)                5130      \n",
      "                                                                 \n",
      "=================================================================\n",
      "Total params: 20,292,170\n",
      "Trainable params: 20,292,170\n",
      "Non-trainable params: 0\n",
      "_________________________________________________________________\n"
     ]
    }
   ],
   "source": [
    "img_width = 32\n",
    "img_height = 32\n",
    "img_ch = 3\n",
    "input_tensor = Input(shape=(img_width, img_height, img_ch))\n",
    "vgg19_no_top = vgg19.VGG19(include_top=False,input_tensor=input_tensor,weights='imagenet')\n",
    "\n",
    "x = vgg19_no_top.output\n",
    "x = GlobalAveragePooling2D()(x)\n",
    "x = Dense(512, activation='relu')(x)\n",
    "classification_output = Dense(10, activation=\"softmax\")(x)\n",
    "\n",
    "model = Model(inputs=vgg19_no_top.input,outputs=classification_output)\n",
    "model.compile(loss=\"categorical_crossentropy\",optimizer='sgd',metrics=[\"accuracy\"])\n",
    "model.summary()"
   ]
  },
  {
   "cell_type": "markdown",
   "id": "c05b9a67",
   "metadata": {},
   "source": [
    "#### モデルをcifar10で再学習"
   ]
  },
  {
   "cell_type": "code",
   "execution_count": 4,
   "id": "608514cc",
   "metadata": {
    "scrolled": true
   },
   "outputs": [
    {
     "name": "stdout",
     "output_type": "stream",
     "text": [
      "Epoch 1/10\n"
     ]
    },
    {
     "name": "stderr",
     "output_type": "stream",
     "text": [
      "2024-06-01 23:08:18.125582: W tensorflow/core/platform/profile_utils/cpu_utils.cc:128] Failed to get CPU frequency: 0 Hz\n",
      "2024-06-01 23:08:18.630198: I tensorflow/core/grappler/optimizers/custom_graph_optimizer_registry.cc:113] Plugin optimizer for device_type GPU is enabled.\n"
     ]
    },
    {
     "name": "stdout",
     "output_type": "stream",
     "text": [
      "2813/2813 [==============================] - ETA: 0s - loss: 0.9919 - accuracy: 0.6584"
     ]
    },
    {
     "name": "stderr",
     "output_type": "stream",
     "text": [
      "2024-06-01 23:11:03.334474: I tensorflow/core/grappler/optimizers/custom_graph_optimizer_registry.cc:113] Plugin optimizer for device_type GPU is enabled.\n"
     ]
    },
    {
     "name": "stdout",
     "output_type": "stream",
     "text": [
      "2813/2813 [==============================] - 172s 61ms/step - loss: 0.9919 - accuracy: 0.6584 - val_loss: 0.7189 - val_accuracy: 0.7632\n",
      "Epoch 2/10\n",
      "2813/2813 [==============================] - 183s 65ms/step - loss: 0.5869 - accuracy: 0.8004 - val_loss: 0.6977 - val_accuracy: 0.7562\n",
      "Epoch 3/10\n",
      "2813/2813 [==============================] - 171s 61ms/step - loss: 0.4401 - accuracy: 0.8487 - val_loss: 0.5139 - val_accuracy: 0.8232\n",
      "Epoch 4/10\n",
      "2813/2813 [==============================] - 169s 60ms/step - loss: 0.3433 - accuracy: 0.8824 - val_loss: 0.5730 - val_accuracy: 0.8142\n",
      "Epoch 5/10\n",
      "2813/2813 [==============================] - 166s 59ms/step - loss: 0.2722 - accuracy: 0.9057 - val_loss: 0.5024 - val_accuracy: 0.8394\n",
      "Epoch 6/10\n",
      "2813/2813 [==============================] - 170s 61ms/step - loss: 0.2112 - accuracy: 0.9282 - val_loss: 0.4744 - val_accuracy: 0.8526\n",
      "Epoch 7/10\n",
      "2813/2813 [==============================] - 170s 60ms/step - loss: 0.1639 - accuracy: 0.9422 - val_loss: 0.4866 - val_accuracy: 0.8556\n",
      "Epoch 8/10\n",
      "2813/2813 [==============================] - 171s 61ms/step - loss: 0.1280 - accuracy: 0.9566 - val_loss: 0.6022 - val_accuracy: 0.8378\n",
      "Epoch 9/10\n",
      "2813/2813 [==============================] - 170s 60ms/step - loss: 0.1032 - accuracy: 0.9658 - val_loss: 0.6832 - val_accuracy: 0.8288\n",
      "Epoch 10/10\n",
      "2813/2813 [==============================] - 171s 61ms/step - loss: 0.0851 - accuracy: 0.9714 - val_loss: 0.5956 - val_accuracy: 0.8498\n"
     ]
    }
   ],
   "source": [
    "history=model.fit(x_train,y_train_one_hot,batch_size=16,epochs=10,verbose=1,validation_split=0.1)"
   ]
  },
  {
   "cell_type": "markdown",
   "id": "ae793637",
   "metadata": {},
   "source": [
    "# Step3.テストデータに対する推論処理と結果表示\n",
    "次の流れでセルを実行\n",
    "1. テストデータに対して学習済みモデルで推論\n",
    "2. 推論結果の内訳を混同行列で表示\n",
    "3. 評価指標(適合率,再現率,F1値)を計算"
   ]
  },
  {
   "cell_type": "markdown",
   "id": "ad48a6ea",
   "metadata": {},
   "source": [
    "#### テストデータに対して学習済みモデルで推論"
   ]
  },
  {
   "cell_type": "code",
   "execution_count": 5,
   "id": "d4f02d2f",
   "metadata": {},
   "outputs": [
    {
     "name": "stderr",
     "output_type": "stream",
     "text": [
      "2024-06-01 23:37:15.194806: I tensorflow/core/grappler/optimizers/custom_graph_optimizer_registry.cc:113] Plugin optimizer for device_type GPU is enabled.\n"
     ]
    }
   ],
   "source": [
    "# one-hotベクトル形式から元の教師ラベル値に戻す\n",
    "def oneHotDecoder(oneHotVector):\n",
    "    decodeResult = []\n",
    "    for ohv in oneHotVector:\n",
    "        decodeResult.append(np.argmax(ohv))\n",
    "    return np.array(decodeResult)\n",
    "\n",
    "predicted = oneHotDecoder(model.predict(x_test))"
   ]
  },
  {
   "cell_type": "markdown",
   "id": "4d30b9f2",
   "metadata": {},
   "source": [
    "#### 推論結果の内訳を混同行列で表示"
   ]
  },
  {
   "cell_type": "code",
   "execution_count": 6,
   "id": "1cb656b5",
   "metadata": {},
   "outputs": [
    {
     "data": {
      "image/png": "[encoded data removed]",
      "text/plain": [
       "<Figure size 432x288 with 2 Axes>"
      ]
     },
     "metadata": {
      "needs_background": "light"
     },
     "output_type": "display_data"
    }
   ],
   "source": [
    "cmx = confusion_matrix(y_test,predicted)\n",
    "object_labels=[\"airplane\",\"automobile\",\"bird\",\"cat\",\"deer\",\"dog\",\"frog\",\"horse\",\"ship\",\"truck\"]\n",
    "df = pd.DataFrame(cmx, index=object_labels, columns=object_labels)\n",
    "sn.heatmap(df, annot=True, fmt='d',cmap='Blues')\n",
    "plt.title(\"confusion matrix result\")\n",
    "plt.ylabel(\"True Label\")\n",
    "plt.xlabel(\"Predicted Label\")\n",
    "plt.show()"
   ]
  },
  {
   "cell_type": "markdown",
   "id": "b634ad23",
   "metadata": {},
   "source": [
    "#### 評価指標(適合率,再現率,F1値)を計算"
   ]
  },
  {
   "cell_type": "code",
   "execution_count": 7,
   "id": "d0e7c845",
   "metadata": {},
   "outputs": [
    {
     "name": "stdout",
     "output_type": "stream",
     "text": [
      "              precision    recall  f1-score   support\n",
      "\n",
      "    airplane       0.86      0.88      0.87      1000\n",
      "  automobile       0.90      0.95      0.92      1000\n",
      "        bird       0.92      0.72      0.81      1000\n",
      "         cat       0.61      0.81      0.70      1000\n",
      "        deer       0.81      0.85      0.83      1000\n",
      "         dog       0.83      0.72      0.77      1000\n",
      "        frog       0.87      0.87      0.87      1000\n",
      "       horse       0.90      0.87      0.88      1000\n",
      "        ship       0.91      0.94      0.92      1000\n",
      "       truck       0.95      0.87      0.91      1000\n",
      "\n",
      "    accuracy                           0.85     10000\n",
      "   macro avg       0.86      0.85      0.85     10000\n",
      "weighted avg       0.86      0.85      0.85     10000\n",
      "\n"
     ]
    }
   ],
   "source": [
    "print(classification_report(y_test,predicted,target_names=object_labels))"
   ]
  },
  {
   "cell_type": "markdown",
   "id": "b88c2307",
   "metadata": {},
   "source": [
    "#### モデルの保存"
   ]
  },
  {
   "cell_type": "code",
   "execution_count": 9,
   "id": "ff92352b",
   "metadata": {},
   "outputs": [],
   "source": [
    "model.save(\"cifar10-learned-model.h5\")"
   ]
  },
  {
   "cell_type": "code",
   "execution_count": null,
   "id": "71e96fc6",
   "metadata": {},
   "outputs": [],
   "source": []
  }
 ],
 "metadata": {
  "kernelspec": {
   "display_name": "Python 3 (ipykernel)",
   "language": "python",
   "name": "python3"
  },
  "language_info": {
   "codemirror_mode": {
    "name": "ipython",
    "version": 3
   },
   "file_extension": ".py",
   "mimetype": "text/x-python",
   "name": "python",
   "nbconvert_exporter": "python",
   "pygments_lexer": "ipython3",
   "version": "3.8.13"
  }
 },
 "nbformat": 4,
 "nbformat_minor": 5
}
